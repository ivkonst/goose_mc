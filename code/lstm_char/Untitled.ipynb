{
 "cells": [
  {
   "cell_type": "code",
   "execution_count": null,
   "metadata": {},
   "outputs": [],
   "source": [
    "import json"
   ]
  },
  {
   "cell_type": "code",
   "execution_count": null,
   "metadata": {},
   "outputs": [],
   "source": []
  },
  {
   "cell_type": "code",
   "execution_count": null,
   "metadata": {},
   "outputs": [],
   "source": []
  },
  {
   "cell_type": "code",
   "execution_count": null,
   "metadata": {},
   "outputs": [],
   "source": []
  },
  {
   "cell_type": "code",
   "execution_count": null,
   "metadata": {},
   "outputs": [],
   "source": []
  },
  {
   "cell_type": "code",
   "execution_count": null,
   "metadata": {},
   "outputs": [],
   "source": []
  },
  {
   "cell_type": "code",
   "execution_count": 1,
   "metadata": {},
   "outputs": [],
   "source": [
    "from loader import ReaderParagraph"
   ]
  },
  {
   "cell_type": "code",
   "execution_count": 2,
   "metadata": {},
   "outputs": [],
   "source": [
    "reader = ReaderParagraph('../../data/texts_webrap.jsonl', 3)"
   ]
  },
  {
   "cell_type": "code",
   "execution_count": 3,
   "metadata": {},
   "outputs": [
    {
     "data": {
      "text/plain": [
       "[['Ну что, раскрыть карты мне пора: да, мой любимый фильм  Горбатая Гора .',\n",
       "  'Пусть люди вокруг считают, что все геи мрази,',\n",
       "  'Но мои идолы Боря Моисеев, Азис.'],\n",
       " ['Вы говорите я плохой - неправда и пи*дёж, а?',\n",
       "  'Мой цвет любимый   голубой, как Лазарев Серёжа.',\n",
       "  'По ночам стриптиз друг другу с Соколовским пляшем,',\n",
       "  'Тимати противный тип, а Киркоров   няша.'],\n",
       " ['В жопу всем даю, геям хер сосу  - сказал по секрету мне Jubilee перед Versus ом.',\n",
       "  'Эй, Никита! Нет, я не гей, не п*дор!',\n",
       "  'Но бабе SD мне было стыдно дать за щёку, а тебе не стыдно?',\n",
       "  'Рифмуешь неплохо, искусно, да   но со вкусом убого,']]"
      ]
     },
     "execution_count": 3,
     "metadata": {},
     "output_type": "execute_result"
    }
   ],
   "source": [
    "next(reader.read_batches())"
   ]
  },
  {
   "cell_type": "code",
   "execution_count": 4,
   "metadata": {},
   "outputs": [
    {
     "data": {
      "text/plain": [
       "13834"
      ]
     },
     "execution_count": 4,
     "metadata": {},
     "output_type": "execute_result"
    }
   ],
   "source": [
    "reader.__len__()"
   ]
  },
  {
   "cell_type": "code",
   "execution_count": 5,
   "metadata": {},
   "outputs": [
    {
     "name": "stdout",
     "output_type": "stream",
     "text": [
      "13881\n"
     ]
    }
   ],
   "source": [
    "for i, par in enumerate(reader.read_batches()):\n",
    "    a = 0\n",
    "print(i)"
   ]
  },
  {
   "cell_type": "code",
   "execution_count": 6,
   "metadata": {},
   "outputs": [
    {
     "data": {
      "text/plain": [
       "[['Ведь не бывает сразу две души у человека,',\n",
       "  'И сердце тоже рассчитано на одного.',\n",
       "  'А может просто сделать шаг навстречу ветру',\n",
       "  'Лететь не долго   знаю, но слишком высоко!'],\n",
       " ['Так много дорог, какая твоя?',\n",
       "  'Лишь сердце поймёт, добавив огня.',\n",
       "  'Так чутко следит, и чувствуешь ты,',\n",
       "  'Когда не твоё, сердце велит уходи   уходи']]"
      ]
     },
     "execution_count": 6,
     "metadata": {},
     "output_type": "execute_result"
    }
   ],
   "source": [
    "par"
   ]
  },
  {
   "cell_type": "code",
   "execution_count": null,
   "metadata": {},
   "outputs": [],
   "source": []
  },
  {
   "cell_type": "code",
   "execution_count": null,
   "metadata": {},
   "outputs": [],
   "source": []
  },
  {
   "cell_type": "code",
   "execution_count": null,
   "metadata": {},
   "outputs": [],
   "source": []
  },
  {
   "cell_type": "code",
   "execution_count": null,
   "metadata": {},
   "outputs": [],
   "source": []
  }
 ],
 "metadata": {
  "kernelspec": {
   "display_name": "Python 3",
   "language": "python",
   "name": "python3"
  },
  "language_info": {
   "codemirror_mode": {
    "name": "ipython",
    "version": 3
   },
   "file_extension": ".py",
   "mimetype": "text/x-python",
   "name": "python",
   "nbconvert_exporter": "python",
   "pygments_lexer": "ipython3",
   "version": "3.6.6"
  }
 },
 "nbformat": 4,
 "nbformat_minor": 2
}
