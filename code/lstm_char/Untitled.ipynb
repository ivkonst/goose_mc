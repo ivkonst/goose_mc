{
 "cells": [
  {
   "cell_type": "code",
   "execution_count": 1,
   "metadata": {},
   "outputs": [],
   "source": []
  },
  {
   "cell_type": "code",
   "execution_count": 2,
   "metadata": {},
   "outputs": [],
   "source": []
  },
  {
   "cell_type": "code",
   "execution_count": 3,
   "metadata": {},
   "outputs": [
    {
     "name": "stdout",
     "output_type": "stream",
     "text": [
      "[['#', 't', '$', 't', 't', '$', 't', 't', 't', '%'], ['#', 'k', 'k', '$', 'k', 'k', 'k', 'k', '$', 'k', 'k', 'k', 'k', 'k', 'k', '%'], ['#', 'v', '$', 'v', '$', 'v', '%']]\n",
      "[['#', 'k', 'k', '$', 'k', 'k', 'k', 'k', '$', 'k', 'k', 'k', 'k', 'k', 'k', '%'], ['#', 't', '$', 't', 't', '$', 't', 't', 't', '%', '&', '&', '&', '&', '&', '&'], ['#', 'v', '$', 'v', '$', 'v', '%', '&', '&', '&', '&', '&', '&', '&', '&', '&']]\n"
     ]
    }
   ],
   "source": [
    "a = [\n",
    "    ['t', 'tt', 'ttt'],\n",
    "    ['kk', 'kkkk', 'kkkkkk'],\n",
    "    ['v', 'v', 'v'],\n",
    "]\n",
    "\n",
    "a = list(map(tokenizer_paragraph_char, a))\n",
    "print(a)\n",
    "a = pad_list(a, pad=lambda: '&')\n",
    "print(a)"
   ]
  },
  {
   "cell_type": "code",
   "execution_count": 4,
   "metadata": {},
   "outputs": [
    {
     "data": {
      "text/plain": [
       "array([[ 0, 62, 62,  1, 62, 62, 62, 62,  1, 62, 62, 62, 62, 62, 62,  2],\n",
       "       [ 0, 71,  1, 71, 71,  1, 71, 71, 71,  2,  3,  3,  3,  3,  3,  3],\n",
       "       [ 0, 73,  1, 73,  1, 73,  2,  3,  3,  3,  3,  3,  3,  3,  3,  3]])"
      ]
     },
     "execution_count": 4,
     "metadata": {},
     "output_type": "execute_result"
    }
   ],
   "source": [
    "vct.forward(a)"
   ]
  },
  {
   "cell_type": "code",
   "execution_count": null,
   "metadata": {},
   "outputs": [],
   "source": []
  },
  {
   "cell_type": "code",
   "execution_count": null,
   "metadata": {},
   "outputs": [],
   "source": []
  },
  {
   "cell_type": "code",
   "execution_count": 1,
   "metadata": {},
   "outputs": [],
   "source": [
    "from loader import ParagraphReader, ParagraphLoader\n",
    "from utils import pad_list\n",
    "from vectorizer import alphabet_idx, tokenizer_paragraph_char, VectorizerParagraphChar\n",
    "\n",
    "vectorizer = VectorizerParagraphChar(alphabet_idx)"
   ]
  },
  {
   "cell_type": "code",
   "execution_count": 2,
   "metadata": {},
   "outputs": [],
   "source": [
    "reader = ParagraphReader('../../data/texts_webrap.jsonl', 3)"
   ]
  },
  {
   "cell_type": "code",
   "execution_count": 3,
   "metadata": {},
   "outputs": [
    {
     "data": {
      "text/plain": [
       "[['Ну что, раскрыть карты мне пора: да, мой любимый фильм  Горбатая Гора .',\n",
       "  'Пусть люди вокруг считают, что все геи мрази,',\n",
       "  'Но мои идолы Боря Моисеев, Азис.'],\n",
       " ['Вы говорите я плохой - неправда и пи*дёж, а?',\n",
       "  'Мой цвет любимый   голубой, как Лазарев Серёжа.',\n",
       "  'По ночам стриптиз друг другу с Соколовским пляшем,',\n",
       "  'Тимати противный тип, а Киркоров   няша.'],\n",
       " ['В жопу всем даю, геям хер сосу  - сказал по секрету мне Jubilee перед Versus ом.',\n",
       "  'Эй, Никита! Нет, я не гей, не п*дор!',\n",
       "  'Но бабе SD мне было стыдно дать за щёку, а тебе не стыдно?',\n",
       "  'Рифмуешь неплохо, искусно, да   но со вкусом убого,']]"
      ]
     },
     "execution_count": 3,
     "metadata": {},
     "output_type": "execute_result"
    }
   ],
   "source": [
    "next(reader.read_batches())"
   ]
  },
  {
   "cell_type": "code",
   "execution_count": 4,
   "metadata": {},
   "outputs": [],
   "source": [
    "loader = ParagraphLoader(reader, tokenizer_paragraph_char, vectorizer)"
   ]
  },
  {
   "cell_type": "code",
   "execution_count": 5,
   "metadata": {},
   "outputs": [
    {
     "data": {
      "text/plain": [
       "(tensor([  0,  92, 130,   4, 134, 129, 125,  10,   4, 127, 111, 128, 121, 127,\n",
       "         138, 129, 139,   4, 121, 111, 127, 129, 138,   4, 123, 124, 116,   4,\n",
       "         126, 125, 127, 111,  23,   4, 115, 111,  10,   4, 123, 125, 120,   4,\n",
       "         122, 141, 112, 119, 123, 138, 120,   4, 131, 119, 122, 139, 123,   4,\n",
       "           4,  82, 125, 127, 112, 111, 129, 111, 142,   4,  82, 125, 127, 111,\n",
       "           4,  12,   1,  94, 130, 128, 129, 139,   4, 122, 141, 115, 119,   4,\n",
       "         113, 125, 121, 127, 130, 114,   4, 128, 134, 119, 129, 111, 141, 129,\n",
       "          10,   4, 134, 129, 125,   4, 113, 128, 116,   4, 114, 116, 119,   4,\n",
       "         123, 127, 111, 118, 119,  10,   1,  92, 125,   4, 123, 125, 119,   4,\n",
       "         119, 115, 125, 122, 138,   4,  80, 125, 127, 142,   4,  91, 125, 119,\n",
       "         128, 116, 116, 113,  10,   4,  79, 118, 119, 128,  12,   2]),\n",
       " tensor([  0,  81, 138,   4, 114, 125, 113, 125, 127, 119, 129, 116,   4, 142,\n",
       "           4, 126, 122, 125, 132, 125, 120,   4,  11,   4, 124, 116, 126, 127,\n",
       "         111, 113, 115, 111,   4, 119,   4, 126, 119,   9, 115, 143, 117,  10,\n",
       "           4, 111,  25,   1,  91, 125, 120,   4, 133, 113, 116, 129,   4, 122,\n",
       "         141, 112, 119, 123, 138, 120,   4,   4,   4, 114, 125, 122, 130, 112,\n",
       "         125, 120,  10,   4, 121, 111, 121,   4,  90, 111, 118, 111, 127, 116,\n",
       "         113,   4,  96, 116, 127, 143, 117, 111,  12,   2,   3,   3,   3,   3,\n",
       "           3,   3,   3,   3,   3,   3,   3,   3,   3,   3,   3,   3,   3,   3,\n",
       "           3,   3,   3,   3,   3,   3,   3,   3,   3,   3,   3,   3,   3,   3,\n",
       "           3,   3,   3,   3,   3,   3,   3,   3,   3,   3,   3,   3,   3,   3,\n",
       "           3,   3,   3,   3,   3,   3,   3,   3,   3,   3,   3,   3]),\n",
       " tensor([  0,  94, 125,   4, 124, 125, 134, 111, 123,   4, 128, 129, 127, 119,\n",
       "         126, 129, 119, 118,   4, 115, 127, 130, 114,   4, 115, 127, 130, 114,\n",
       "         130,   4, 128,   4,  96, 125, 121, 125, 122, 125, 113, 128, 121, 119,\n",
       "         123,   4, 126, 122, 142, 135, 116, 123,  10,   1,  97, 119, 123, 111,\n",
       "         129, 119,   4, 126, 127, 125, 129, 119, 113, 124, 138, 120,   4, 129,\n",
       "         119, 126,  10,   4, 111,   4,  89, 119, 127, 121, 125, 127, 125, 113,\n",
       "           4,   4,   4, 124, 142, 135, 111,  12,   2,   3,   3,   3,   3,   3,\n",
       "           3,   3,   3,   3,   3,   3,   3,   3,   3,   3,   3,   3,   3,   3,\n",
       "           3,   3,   3,   3,   3,   3,   3,   3,   3,   3,   3,   3,   3,   3,\n",
       "           3,   3,   3,   3,   3,   3,   3,   3,   3,   3,   3,   3,   3,   3,\n",
       "           3,   3,   3,   3,   3,   3,   3,   3,   3,   3,   3,   3]))"
      ]
     },
     "execution_count": 5,
     "metadata": {},
     "output_type": "execute_result"
    }
   ],
   "source": [
    "next(loader.__iter__())"
   ]
  },
  {
   "cell_type": "code",
   "execution_count": null,
   "metadata": {},
   "outputs": [],
   "source": []
  },
  {
   "cell_type": "code",
   "execution_count": null,
   "metadata": {},
   "outputs": [],
   "source": []
  },
  {
   "cell_type": "code",
   "execution_count": 4,
   "metadata": {},
   "outputs": [
    {
     "data": {
      "text/plain": [
       "13834"
      ]
     },
     "execution_count": 4,
     "metadata": {},
     "output_type": "execute_result"
    }
   ],
   "source": [
    "reader.__len__()"
   ]
  },
  {
   "cell_type": "code",
   "execution_count": 5,
   "metadata": {},
   "outputs": [
    {
     "name": "stdout",
     "output_type": "stream",
     "text": [
      "13881\n"
     ]
    }
   ],
   "source": [
    "for i, par in enumerate(reader.read_batches()):\n",
    "    a = 0\n",
    "print(i)"
   ]
  },
  {
   "cell_type": "code",
   "execution_count": 6,
   "metadata": {},
   "outputs": [
    {
     "data": {
      "text/plain": [
       "[['Ведь не бывает сразу две души у человека,',\n",
       "  'И сердце тоже рассчитано на одного.',\n",
       "  'А может просто сделать шаг навстречу ветру',\n",
       "  'Лететь не долго   знаю, но слишком высоко!'],\n",
       " ['Так много дорог, какая твоя?',\n",
       "  'Лишь сердце поймёт, добавив огня.',\n",
       "  'Так чутко следит, и чувствуешь ты,',\n",
       "  'Когда не твоё, сердце велит уходи   уходи']]"
      ]
     },
     "execution_count": 6,
     "metadata": {},
     "output_type": "execute_result"
    }
   ],
   "source": [
    "par"
   ]
  },
  {
   "cell_type": "code",
   "execution_count": null,
   "metadata": {},
   "outputs": [],
   "source": []
  },
  {
   "cell_type": "code",
   "execution_count": null,
   "metadata": {},
   "outputs": [],
   "source": []
  },
  {
   "cell_type": "code",
   "execution_count": null,
   "metadata": {},
   "outputs": [],
   "source": []
  },
  {
   "cell_type": "code",
   "execution_count": null,
   "metadata": {},
   "outputs": [],
   "source": []
  }
 ],
 "metadata": {
  "kernelspec": {
   "display_name": "Python 3",
   "language": "python",
   "name": "python3"
  },
  "language_info": {
   "codemirror_mode": {
    "name": "ipython",
    "version": 3
   },
   "file_extension": ".py",
   "mimetype": "text/x-python",
   "name": "python",
   "nbconvert_exporter": "python",
   "pygments_lexer": "ipython3",
   "version": "3.6.6"
  }
 },
 "nbformat": 4,
 "nbformat_minor": 2
}
